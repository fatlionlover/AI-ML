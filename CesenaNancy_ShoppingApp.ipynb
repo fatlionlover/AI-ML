{
 "cells": [
  {
   "cell_type": "markdown",
   "metadata": {},
   "source": [
    "# Nancy's Shopping App"
   ]
  },
  {
   "cell_type": "markdown",
   "metadata": {},
   "source": [
    "##### Thank you for viewing my shoppint app! I have defined all required functionality for my shopping app in the first section. You may find my final shopping app in the last section of this document. "
   ]
  },
  {
   "cell_type": "markdown",
   "metadata": {},
   "source": [
    "### **Section 1: Defining User and Admin Functions**\n",
    "##### Print out welcome message\n",
    "###### * A welcome message should initially be displayed in the e-commerce application, such as \"Welcome to the Demo Marketplace\"."
   ]
  },
  {
   "cell_type": "code",
   "execution_count": null,
   "metadata": {},
   "outputs": [],
   "source": [
    "def shoppingApp():\n",
    "    print('--------------------------------------------------------')\n",
    "    print(\"Welcome to Nancy's Marketplace - we are thrilled to have you! \\nPlease browse around, and don't be shy to add items into your cart. \\nWe have a flexible return policy!\")\n",
    "    print('--------------------------------------------------------')\n",
    "\n",
    "shoppingApp()"
   ]
  },
  {
   "cell_type": "markdown",
   "metadata": {},
   "source": [
    "##### Define User and Admin Logins\n",
    "\n",
    "###### * User login and admin login should be created once the code for the welcome message has been written. For the creation of demo login and admin login, demo databases for those should be created for the user and admin verification, and session id creation."
   ]
  },
  {
   "cell_type": "code",
   "execution_count": null,
   "metadata": {},
   "outputs": [],
   "source": [
    "# user and admin login demo login\n",
    "\n",
    "user_access = {\n",
    "    # username : password\n",
    "    'userA': 'passA',\n",
    "    'userB': 'passB',\n",
    "    'userC': 'passC'\n",
    "}\n",
    "\n",
    "admin_access = {\n",
    "    # username : password\n",
    "    'auserA': 'apassA',\n",
    "    'auserB': 'apassB',\n",
    "    'auserC': 'apassC'\n",
    "}\n",
    "\n",
    "session_id = {\n",
    "    'userA': '12345',\n",
    "    'userB': '12346',\n",
    "    'userC': '12347',\n",
    "    'auserA': '12348',\n",
    "    'auserB': '12349',\n",
    "    'auserC': '12350'    \n",
    "}"
   ]
  },
  {
   "cell_type": "code",
   "execution_count": null,
   "metadata": {},
   "outputs": [],
   "source": [
    "# create random number generator for new session IDs\n",
    "from random import randint\n",
    "def randNumGen():\n",
    "    randNum = randint(11111,99999)\n",
    "    if randNum in session_id.values(): #update use 'while' \n",
    "        randNum = randint(11111,99999)\n",
    "        return(randNum)\n",
    "    else:\n",
    "        return(randNum)\n",
    "\n",
    "randNumGen()"
   ]
  },
  {
   "cell_type": "markdown",
   "metadata": {},
   "source": [
    "###### * The admin can only log in using his credentials, and if the admin attempts to log in using another set of credentials, an error notice must appear."
   ]
  },
  {
   "cell_type": "code",
   "execution_count": null,
   "metadata": {},
   "outputs": [],
   "source": [
    "# admin login function \n",
    "\n",
    "def admin_login():\n",
    "    user = input('Enter your username.')\n",
    "    password = input('Enter your password.')\n",
    "    global sessionID\n",
    "\n",
    "    # check if the password is available in the user dictionary\n",
    "    if user in admin_access and admin_access[user] == password:\n",
    "        sessionID = session_id[user]\n",
    "        print(\"Welcome to Nancy's Marketplace, \", user,'!')\n",
    "        print(\"Your session has been verified. Your session ID is:\", sessionID, \".\")\n",
    "    else:\n",
    "        newAccount = input(\"Would you like to create a new user login?\")\n",
    "        if newAccount in ('Yes', 'yes'):\n",
    "            admin_access[user] = password\n",
    "            sessionID = randNumGen()\n",
    "            session_id[user] = sessionID\n",
    "            print(\"Congratulations, your new account has been created,\", user,\"!\")\n",
    "            print(\"Your new session ID is:\", sessionID,\".\")\n",
    "        else: \n",
    "            print(\"Access Denied: Incorrect username and password. \\nPlease review your username and password carefully and try agian.\")\n",
    "            sessionID = 0\n",
    "\n",
    "admin_login()"
   ]
  },
  {
   "cell_type": "markdown",
   "metadata": {},
   "source": [
    "###### * Users should not be able to take advantage of any of the admin's rights."
   ]
  },
  {
   "cell_type": "code",
   "execution_count": null,
   "metadata": {},
   "outputs": [],
   "source": [
    "\n",
    "# user logins function \n",
    "def user_login():\n",
    "    user = input('Enter your username.')\n",
    "    password = input('Enter your password.')\n",
    "    global sessionID\n",
    "\n",
    "    # check if the password is available in the user dictionary\n",
    "    if user in user_access and user_access[user] == password:\n",
    "        sessionID = session_id[user]\n",
    "        print(\"Welcome to Nancy's Marketplace, {}! \\nYour session has been verified. Your session ID is: {}.\".format(user,sessionID))\n",
    "    else:\n",
    "        newAccount = input(\"Account not recognized. Would you like to create a new user login? Please enter 'Yes' or 'No'.\")\n",
    "        if newAccount in ('Yes', 'yes'):\n",
    "            user_access[user] = password\n",
    "            sessionID = randNumGen()\n",
    "            session_id[user] = sessionID\n",
    "            print(\"Congratulations, your new account has been created, {}! \\nYour new session ID is: {}.\".format(user,sessionID))\n",
    "        else: \n",
    "            print(\"Access Denied: Incorrect username and password. \\nPlease review your username and password carefully and try agian.\")\n",
    "            sessionID = 0\n",
    "\n",
    "user_login()"
   ]
  },
  {
   "cell_type": "markdown",
   "metadata": {},
   "source": [
    "##### Define Sample Catalog\n",
    "###### * Construct a sample product catalog with three to four product categories, such as Boots, Coats, Jackets, and Caps. The product id, name, category id, and price should all be present for each item in the dummy database of the catalog. Both users and administrators can view the catalog."
   ]
  },
  {
   "cell_type": "code",
   "execution_count": null,
   "metadata": {},
   "outputs": [],
   "source": [
    "# nested dict\n",
    "sample_catalog = {  \n",
    "    1: {'productID': 1, 'categoryID': 'Soda', 'name': 'Coca Cola', 'price': 4.99},\n",
    "    2: {'productID': 2, 'categoryID': 'Soda', 'name': 'Diet Coca Cola', 'price': 4.99},\n",
    "    3: {'productID': 3, 'categoryID': 'Soda', 'name': 'Sprite', 'price': 4.99},\n",
    "    4: {'productID': 4, 'categoryID': 'Liquor', 'name': 'Tequila', 'price': 83.99},\n",
    "    5: {'productID': 5, 'categoryID': 'Liquor', 'name': 'Whiskey', 'price': 79.99},\n",
    "    6: {'productID': 6, 'categoryID': 'Liquor', 'name': 'Gin', 'price': 54.99},\n",
    "    7: {'productID': 7, 'categoryID': 'Beer', 'name': 'Stout', 'price': 8},\n",
    "    8: {'productID': 8, 'categoryID': 'Beer', 'name': 'Porter', 'price': 7},\n",
    "    9: {'productID': 9, 'categoryID': 'Beer', 'name': 'IPA', 'price': 9},\n",
    "    10: {'productID': 10, 'categoryID': 'Cider', 'name': 'Raspberry Cider', 'price': 7},\n",
    "    11: {'productID': 11, 'categoryID': 'Cider', 'name': 'Strawberry Cider', 'price': 8},\n",
    "    12: {'productID': 12, 'categoryID': 'Cider', 'name': 'Blueberry Cider', 'price': 7}\n",
    "}\n",
    "\n",
    "sample_catalog"
   ]
  },
  {
   "cell_type": "code",
   "execution_count": null,
   "metadata": {},
   "outputs": [],
   "source": [
    "# build a  function to display the items in the catalog\n",
    "def displayCatalog():\n",
    "    print(\"Nancy's Marketplace Catalog\")\n",
    "    #loop through each item\n",
    "    for items in sample_catalog:\n",
    "        print(\"productID: {}, name: {}, categoryID: {}, price: {}\".format(sample_catalog[items][\"productID\"],sample_catalog[items][\"name\"],sample_catalog[items][\"categoryID\"],sample_catalog[items][\"price\"]))\n",
    "\n",
    "displayCatalog()"
   ]
  },
  {
   "cell_type": "markdown",
   "metadata": {},
   "source": [
    "#### Define user cart functionality Functions\n",
    "###### * User login rights include the ability to view cart contents, add items to carts, and remove items from carts. The user should be able to add items or delete items in the cart using session id, product id, and quantity."
   ]
  },
  {
   "cell_type": "code",
   "execution_count": null,
   "metadata": {},
   "outputs": [],
   "source": [
    "#%pip install pandas\n",
    "import pandas as pd\n",
    "from pandas import DataFrame\n",
    "\n",
    "# build an empty cart\n",
    "cart_columns = [\"SessionID\", \"ProductID\", \"Quantity\", \"Price\", \"Category\", \"Name\"]\n",
    "cart = pd.DataFrame(columns=cart_columns)\n",
    "\n",
    "#create funtion for adding to cart\n",
    "def add_to_cart(productID, quantity, sessionID = sessionID):\n",
    "    global cart\n",
    "\n",
    "    if productID not in list(sample_catalog.keys()):\n",
    "        print(\"You are attempting to add a product that is not in the catalog. Please try again.\")\n",
    "    else: \n",
    "        category = sample_catalog[productID][\"categoryID\"]\n",
    "        name = sample_catalog[productID][\"name\"]   \n",
    "        priceByQuantity = float(sample_catalog[productID][\"price\"])*quantity\n",
    "\n",
    "        #check if product already exists for existing sessionID\n",
    "        if ((cart['ProductID'] == productID) & (cart[\"SessionID\"] == sessionID)).any():\n",
    "            # Update quantity for the existing product\n",
    "            cart.loc[(cart['ProductID'] == productID) & (cart[\"SessionID\"] == sessionID), 'Quantity'] += quantity\n",
    "            cart.loc[(cart['ProductID'] == productID) & (cart[\"SessionID\"] == sessionID), 'Price'] += priceByQuantity\n",
    "            sessionCart = cart[cart[\"SessionID\"] == sessionID]\n",
    "        else:\n",
    "            # Create a new entry for the product\n",
    "            newProduct = pd.DataFrame([[sessionID, productID, quantity, priceByQuantity, category,name]], columns=cart_columns)\n",
    "            if cart.empty:\n",
    "                cart = newProduct\n",
    "                # define what got added\n",
    "                sessionCart = cart[cart[\"SessionID\"] == sessionID]\n",
    "            else:\n",
    "                cart = pd.concat([cart, newProduct], ignore_index=True)\n",
    "                # define what got added\n",
    "                sessionCart = cart[cart[\"SessionID\"] == sessionID]\n",
    "            #print(newProduct)\n",
    "        print(\"You have added: {} {} {}(s).\\n Your cart contains: \\n{}\".format(quantity, category, name, sessionCart))\n"
   ]
  },
  {
   "cell_type": "code",
   "execution_count": null,
   "metadata": {},
   "outputs": [],
   "source": [
    "add_to_cart(3,3, sessionID)"
   ]
  },
  {
   "cell_type": "code",
   "execution_count": null,
   "metadata": {},
   "outputs": [],
   "source": [
    "#create funtion for removing items from cart\n",
    "def remove_from_cart(productID, quantity, sessionID = sessionID):\n",
    "    global cart\n",
    "    category = sample_catalog[productID][\"categoryID\"]\n",
    "    name = sample_catalog[productID][\"name\"]    \n",
    "    priceByQuantity = float(sample_catalog[productID][\"price\"])*quantity\n",
    "\n",
    "    #check if product already exists for existing sessionID\n",
    "    if ((cart['ProductID'] == productID) & (cart[\"SessionID\"] == sessionID) & (cart[\"Quantity\"] >= quantity)).any():\n",
    "        # Update quantity for the existing product\n",
    "        cart.loc[(cart['ProductID'] == productID) & (cart[\"SessionID\"] == sessionID), 'Quantity'] -= quantity\n",
    "        cart.loc[(cart['ProductID'] == productID) & (cart[\"SessionID\"] == sessionID), 'Price'] -= priceByQuantity\n",
    "        sessionCart = cart[(cart[\"SessionID\"] == sessionID) & (cart[\"Quantity\"] != 0)]\n",
    "        print(\"You have removed: {} {} {}(s).\".format(quantity, category, name))\n",
    "        if sessionCart.empty == True: \n",
    "            print(\"Your cart is now empty.\")\n",
    "        else: \n",
    "            print(\"Your cart contains: \\n{}\".format(sessionCart))\n",
    "    else:\n",
    "        # Error message\n",
    "        print(\"Unable to remove desired product from your cart. \\n Please make sure you have sufficient items in your cart to remove.\")\n"
   ]
  },
  {
   "cell_type": "code",
   "execution_count": null,
   "metadata": {},
   "outputs": [],
   "source": [
    "remove_from_cart(5,1, sessionID)"
   ]
  },
  {
   "cell_type": "code",
   "execution_count": null,
   "metadata": {},
   "outputs": [],
   "source": [
    "##Display session cart \n",
    "def displayCart(sessionID=sessionID):\n",
    "    sessionCart = cart[(cart[\"SessionID\"] == sessionID) & (cart[\"Quantity\"] != 0)]\n",
    "    return(sessionCart)\n"
   ]
  },
  {
   "cell_type": "code",
   "execution_count": null,
   "metadata": {},
   "outputs": [],
   "source": [
    "displayCart(sessionID)"
   ]
  },
  {
   "cell_type": "markdown",
   "metadata": {},
   "source": [
    "###### * The program should provide demo payment checkout options, like Net banking, PayPal, UPI, etc. After selecting the payment option, a checkout message like, \"Your order is successfully placed\" or \"You will be shortly redirected to the portal for Unified Payment Interface to make a payment of Rs. 2000\", etc., should be displayed. "
   ]
  },
  {
   "cell_type": "code",
   "execution_count": null,
   "metadata": {},
   "outputs": [],
   "source": [
    "def checkout(sessionID = sessionID):\n",
    "    # sum total cost of session cart \n",
    "    totalPrice = round(sum(displayCart(sessionID)[\"Price\"]),2)\n",
    "\n",
    "    if totalPrice in (0,\"0\"):\n",
    "        print(\"Your cart is empty. Please make sure there are items in your cart before checking out. Thank you!\")\n",
    "    else: \n",
    "        print('''Your total is ${}. How would you like to pay?\n",
    "            1) Credit Card\n",
    "            2) PayPal\n",
    "            3) UPI'''.format(totalPrice))\n",
    "        \n",
    "\n",
    "\n",
    "        pay_meth = input(\"Please select your payment method from the available options.\")\n",
    "        if pay_meth in ('Credit Card', 1, \"1\"):\n",
    "            print(\"You will shortly be redirected to enter your credit card information. Thank you for shopping at Nancy's Marketplace!\")\n",
    "            # reset cart once payment is complete\n",
    "            cart.drop(index=cart.index, inplace=True)\n",
    "        elif pay_meth in ('PayPal', 2, \"2\"):\n",
    "            print(\"Your oder went through using PayPal. Thank you for shopping at Nancy's Marketplace!\")\n",
    "            # reset cart once payment is complete\n",
    "            cart.drop(index=cart.index, inplace=True)\n",
    "        elif pay_meth in ('UPI', 3, \"3\"):\n",
    "            print(\"You will be shortly redirected to the portal for Unified Payment Interface. Thank you for shopping at Nancy's Marketplace!\")\n",
    "            # reset cart once payment is complete\n",
    "            cart.drop(index=cart.index, inplace=True)\n",
    "        else: \n",
    "            print(\"Please try again. Make sure you are selecting between the available payment options.\")\n"
   ]
  },
  {
   "cell_type": "code",
   "execution_count": null,
   "metadata": {},
   "outputs": [],
   "source": [
    "checkout(sessionID)"
   ]
  },
  {
   "cell_type": "code",
   "execution_count": null,
   "metadata": {},
   "outputs": [],
   "source": [
    "# user functionality -- I will be using this functionality in my final shopping App function to iterate through\n",
    "\n",
    "print('''\n",
    "        1. View Nancy's Marketplace shopping catalog.\n",
    "        2. Add item(s) to yout cart.\n",
    "        3. Remove item(s) from your cart.\n",
    "        4. View your shopping cart.\n",
    "        5. Checkout.\n",
    "''')\n",
    "choice = input('What would you like to do next?')\n",
    "if choice in (\"1\",1):\n",
    "    displayCatalog()\n",
    "elif choice in (\"2\", 2):\n",
    "    productID = int(input(\"What is the productID for the item you would like to add?\"))\n",
    "    quantity = int(input(\"How many of that item would you like to add?\"))\n",
    "    add_to_cart(productID,quantity, sessionID)\n",
    "elif choice in (\"3\", 3):\n",
    "    productID = int(input(\"What is the productID for the item you would like to remove?\"))\n",
    "    quantity = int(input(\"How many of that item would you like to remove?\"))\n",
    "    remove_from_cart(productID,quantity, sessionID)\n",
    "elif choice in (\"4\",4):\n",
    "    print(displayCart(sessionID))\n",
    "elif choice in (\"5\",5):\n",
    "    checkout(sessionID)\n",
    "else:\n",
    "    print(\"Action not supported. Please review the options carefully and select between the available options.\")        "
   ]
  },
  {
   "cell_type": "markdown",
   "metadata": {},
   "source": [
    "#### Admin Functionality Functions\n",
    "\n",
    "###### * The admin should be able to add new products to the catalog. Additionally, the program needs to make it possible for an existing product to be modified using an admin session id.\n",
    "###### * The admin should then have the ability to remove any existing products from the already-generated catalog.\n",
    "###### * The admin should be able to add a new category of product and delete the prevailing category of product from the catalog. \n"
   ]
  },
  {
   "cell_type": "code",
   "execution_count": null,
   "metadata": {},
   "outputs": [],
   "source": [
    "##Admin add product to catalog\n",
    "\n",
    "def add_product(sample_catalog=sample_catalog):\n",
    "    print(\"Please edit carefully as your modifications will permanently alter the catalog.\")\n",
    "\n",
    "    prodCat = input(\"What is the category of the item you would like to add?\")\n",
    "    prodName = input(\"What is the name of the item you would like to add?\")\n",
    "    prodPrice = input(\"What is the unit price for the item you would like to add?\")\n",
    "\n",
    "    # check to see if product category and name already exists within catalog\n",
    "    matching_entries = [product_id for product_id, product_info in sample_catalog.items() \n",
    "                    if product_info['categoryID'] == prodCat and product_info['name'] == prodName]\n",
    "    \n",
    "    # if it exists, ask admin to double check new item, or consider modifying the catalog\n",
    "    if matching_entries:\n",
    "        print(\"This product category and name already exists in your catalog. Review your new product details and try again.\\nIf product already exists and you would like to make changes, please go back and modify the catalog. Thank you.\")\n",
    "    else:\n",
    "        prodNum = list(sample_catalog.keys())[-1] + 1\n",
    "        newproduct = {'productID': prodNum, 'categoryID': prodCat, 'name': prodName, 'price': prodPrice}\n",
    "        sample_catalog[prodNum] = newproduct\n",
    "        print(\"You have successfully added a new product! New product added: \\n{}\".format(newproduct))\n"
   ]
  },
  {
   "cell_type": "code",
   "execution_count": null,
   "metadata": {},
   "outputs": [],
   "source": [
    "add_product()"
   ]
  },
  {
   "cell_type": "code",
   "execution_count": null,
   "metadata": {},
   "outputs": [],
   "source": [
    "## admin remove product from catalog \n",
    "\n",
    "def remove_product(sample_catalog=sample_catalog):\n",
    "    print(\"Please edit carefully as your modifications will permanently alter the catalog.\")\n",
    "\n",
    "    prodID = input(\"What is the productID of the item you would like to delete?\")\n",
    "\n",
    "    # check to see if product category and name already exists within catalog\n",
    "    matching_entries = [product_id for product_id, product_info in sample_catalog.items() \n",
    "                    if product_info['productID'] == int(prodID)]\n",
    "    \n",
    "    # if it exists, ask admin to double check new item, or consider modifying the catalog\n",
    "    if not matching_entries:\n",
    "        # productID does not exist\n",
    "        print(\"ProductID odes not exist in the catalog. Review the product details and try again.\")\n",
    "    else:\n",
    "        removedproduct = matching_entries[0]\n",
    "        product = sample_catalog[int(removedproduct)]\n",
    "        sample_catalog.pop(removedproduct)\n",
    "        print(\"You have successfully removed a product. Product removed: \\n{}\".format(product))"
   ]
  },
  {
   "cell_type": "code",
   "execution_count": null,
   "metadata": {},
   "outputs": [],
   "source": [
    "remove_product()"
   ]
  },
  {
   "cell_type": "code",
   "execution_count": null,
   "metadata": {},
   "outputs": [],
   "source": [
    "## modify product from catalog\n",
    "\n",
    "def modify_product(sample_catalog=sample_catalog):\n",
    "    print(\"Please edit carefully as your modifications will permanently alter the catalog.\")\n",
    "    \n",
    "    # identify the productID\n",
    "    prodID = input(\"What is the productID of the item you would like to modify?\")\n",
    "    \n",
    "    matching_entries = [product_id for product_id, product_info in sample_catalog.items() \n",
    "                    if product_info['productID'] == int(prodID)]\n",
    "    \n",
    "    if not matching_entries:\n",
    "        # productID does not exist\n",
    "        print(\"ProductID odes not exist. Review your new product details and try again.\")\n",
    "    else:\n",
    "        # save original product info for comparison after successful product modification\n",
    "        originalproduct = sample_catalog[int(prodID)]\n",
    "        print(\"You have selected to modify product: \\n{}\".format(originalproduct))\n",
    "        \n",
    "        # identify what the admin would like to edit\n",
    "        prodNameEdit = input(\"Would you like to modify the product name? (Yes/No)\")\n",
    "        prodCatEdit = input(\"Would you like to modify the product category? (Yes/No)\")\n",
    "        prodPriceEdit = input(\"Would you like to modify the product price? (Yes/No)\")\n",
    "\n",
    "        # modify product details\n",
    "        if prodNameEdit in (\"Yes\", \"yes\"):\n",
    "            newprodName = input(\"What would you like to update the product name to?\")\n",
    "            sample_catalog[int(prodID)][\"name\"] = newprodName\n",
    "        if prodCatEdit in (\"Yes\", \"yes\"):\n",
    "            newprodCat = input(\"What would you like to update the product category to?\")\n",
    "            sample_catalog[int(prodID)][\"categoryID\"] = newprodCat\n",
    "        if prodPriceEdit in (\"Yes\", \"yes\"):\n",
    "            newprodPrice = input(\"What would you like to update the product price to?\")\n",
    "            sample_catalog[int(prodID)][\"price\"] = newprodPrice\n",
    "\n",
    "        # save new product details for comparison after successful product modification\n",
    "        modifiedproduct = sample_catalog[int(prodID)]\n",
    "\n",
    "        print(\"You have successfully modified this product to: \\n{}\".format(modifiedproduct))"
   ]
  },
  {
   "cell_type": "code",
   "execution_count": null,
   "metadata": {},
   "outputs": [],
   "source": [
    "modify_product()"
   ]
  },
  {
   "cell_type": "markdown",
   "metadata": {},
   "source": [
    "###### * The admin should not be able to interfere with any of the functions that the user can perform, as discussed above. An error should appear if the admin tries to carry out those tasks.\n"
   ]
  },
  {
   "cell_type": "code",
   "execution_count": null,
   "metadata": {},
   "outputs": [],
   "source": [
    "# admin functionality - I will be using this functionality in my final shopping App function to iterate through\n",
    "\n",
    "print('''\n",
    "        1. View Nancy's Marketplace shopping catalog.\n",
    "        2. Add item(s) to the catalog.\n",
    "        3. Remove item(s) from the catalog.\n",
    "        4. Modify item(s) in the catalog.\n",
    "        5. Exit.\n",
    "''')\n",
    "choice = input('What would you like to do next? Please select from the available options.')\n",
    "if choice in (\"1\",1):\n",
    "    displayCatalog()\n",
    "elif choice in (\"2\", 2):\n",
    "    add_product()\n",
    "elif choice in (\"3\", 3):\n",
    "    remove_product()\n",
    "elif choice in (\"4\",4):\n",
    "    modify_product()\n",
    "elif choice in (\"5\",5):\n",
    "    breakpoint\n",
    "else:\n",
    "    print(\"Action not supported. Please review the options carefully and select between the available options.\")        "
   ]
  },
  {
   "cell_type": "markdown",
   "metadata": {},
   "source": [
    "#### Defining user type: user vs admin Function"
   ]
  },
  {
   "cell_type": "code",
   "execution_count": null,
   "metadata": {},
   "outputs": [],
   "source": [
    "# mechanism for user type admin vs user\n",
    "def UserAccessType():\n",
    "    login_type = input('Pleasse enter your user type.')\n",
    "\n",
    "    if login_type == 'user':\n",
    "        user_login()\n",
    "        #print(\"Your session is now active. Happy Shopping!\")\n",
    "        return login_type\n",
    "    elif login_type =='admin':\n",
    "        admin_login()\n",
    "        #print(\"Your session is now active. Happy Shopping!\") ##don't think admin needs this text. maybe editing itemized list from store?\n",
    "        return login_type            \n",
    "    else:\n",
    "        print(\"Unsupported user type. Please select between user and admin.\")\n",
    "\n",
    "UserAccessType()"
   ]
  },
  {
   "cell_type": "markdown",
   "metadata": {},
   "source": [
    "### **Section 2: Final Shopping App**\n",
    "###### * shoppingApp() cycles through all previously defined functions in order to create the expected user and admin experiences."
   ]
  },
  {
   "cell_type": "code",
   "execution_count": null,
   "metadata": {},
   "outputs": [],
   "source": [
    "def shoppingApp():\n",
    "    print('--------------------------------------------------------')\n",
    "    print(\"Welcome to Nancy's Marketplace - we are thrilled to have you! \\nPlease browse around, and don't be shy to add items into your cart. \\nWe have a flexible return policy!\")\n",
    "    print('--------------------------------------------------------')\n",
    "\n",
    "    ##select user access type\n",
    "    user_type = UserAccessType()\n",
    "\n",
    "    if sessionID in (0,\"0\"):\n",
    "        breakpoint\n",
    "    else:\n",
    "        if user_type == 'user':\n",
    "            print('''\n",
    "            1. View Nancy's Marketplace shopping catalog.\n",
    "            2. Add item(s) to yout cart.\n",
    "            3. Remove item(s) from your cart.\n",
    "            4. View your shopping cart.\n",
    "            5. Checkout and exit.\n",
    "            ''')\n",
    "            choice = input('What would you like to do first? Please select from the available options. (1-5)')\n",
    "\n",
    "            while choice in (1,2,3,4,5,\"1\",\"2\",\"3\",\"4\",\"5\"):\n",
    "                if choice in (\"1\",1):\n",
    "                    displayCatalog()\n",
    "                    choice = input('What would you like to do next? Please select from the available options. (1-5)')\n",
    "                elif choice in (\"2\", 2):\n",
    "                    productID = int(input(\"What is the productID for the item you would like to add?\"))\n",
    "                    quantity = int(input(\"How many of that item would you like to add?\"))\n",
    "                    add_to_cart(productID,quantity, sessionID)\n",
    "                    choice = input('What would you like to do next? Please select from the available options. (1-5)')\n",
    "                elif choice in (\"3\", 3):\n",
    "                    productID = int(input(\"What is the productID for the item you would like to remove?\"))\n",
    "                    quantity = int(input(\"How many of that item would you like to remove?\"))\n",
    "                    remove_from_cart(productID,quantity, sessionID)\n",
    "                    choice = input('What would you like to do next? Please select from the available options. (1-5)')\n",
    "                elif choice in (\"4\",4):\n",
    "                    print(displayCart(sessionID))\n",
    "                    choice = input('What would you like to do next? Please select from the available options. (1-5)')\n",
    "                elif choice in (\"5\",5):\n",
    "                    checkout(sessionID)\n",
    "                    break\n",
    "            else:\n",
    "                print(\"Action not supported. Please review the options carefully and select between the available options.\")        \n",
    "        elif user_type == 'admin':\n",
    "            print('''\n",
    "            1. View Nancy's Marketplace shopping catalog.\n",
    "            2. Add item(s) to the catalog.\n",
    "            3. Remove item(s) from the catalog.\n",
    "            4. Modify item(s) in the catalog.\n",
    "            5. Sign out and exit.\n",
    "            ''')\n",
    "\n",
    "            choice = input('What would you like to do first? Please select from the available options. (1-5)')\n",
    "\n",
    "            while choice in (1,2,3,4,5,\"1\",\"2\",\"3\",\"4\",\"5\"):\n",
    "\n",
    "                if choice in (\"1\",1):\n",
    "                    displayCatalog()\n",
    "                    choice = input('What would you like to do next? Please select from the available options. (1-5)')\n",
    "                elif choice in (\"2\", 2):\n",
    "                    add_product()\n",
    "                    choice = input('What would you like to do next? Please select from the available options. (1-5)')\n",
    "                elif choice in (\"3\", 3):\n",
    "                    remove_product()\n",
    "                    choice = input('What would you like to do next? Please select from the available options. (1-5)')\n",
    "                elif choice in (\"4\",4):\n",
    "                    modify_product()\n",
    "                    choice = input('What would you like to do next? Please select from the available options. (1-5)')\n",
    "                elif choice in (\"5\",5):\n",
    "                    print(\"Your session is now over. Thank you!\")\n",
    "                    break\n",
    "            else:\n",
    "                print(\"Action not supported. Please review the options carefully and select between the available options.\")        \n",
    "\n",
    "        else:\n",
    "            print(\"Unsupported user type. Please select between user and admin.\")\n",
    "            breakpoint\n",
    "\n",
    "        \n"
   ]
  },
  {
   "cell_type": "code",
   "execution_count": null,
   "metadata": {},
   "outputs": [],
   "source": [
    "shoppingApp()"
   ]
  }
 ],
 "metadata": {
  "kernelspec": {
   "display_name": "Python 3",
   "language": "python",
   "name": "python3"
  },
  "language_info": {
   "codemirror_mode": {
    "name": "ipython",
    "version": 3
   },
   "file_extension": ".py",
   "mimetype": "text/x-python",
   "name": "python",
   "nbconvert_exporter": "python",
   "pygments_lexer": "ipython3",
   "version": "3.12.0"
  }
 },
 "nbformat": 4,
 "nbformat_minor": 2
}
